{
 "cells": [
  {
   "cell_type": "code",
   "execution_count": 1,
   "metadata": {},
   "outputs": [
    {
     "data": {
      "text/html": [
       "<style>.container { width:100% !important; }</style>"
      ],
      "text/plain": [
       "<IPython.core.display.HTML object>"
      ]
     },
     "metadata": {},
     "output_type": "display_data"
    }
   ],
   "source": [
    "import pandas as pd\n",
    "import numpy as np\n",
    "from datetime import datetime, timedelta\n",
    "\n",
    "from IPython.core.display import display, HTML\n",
    "display(HTML(\"<style>.container { width:100% !important; }</style>\"))\n",
    "\n",
    "import xlrd"
   ]
  },
  {
   "cell_type": "code",
   "execution_count": 2,
   "metadata": {},
   "outputs": [],
   "source": [
    "#2021 import\n",
    "daily_production_df = pd.read_csv('data.csv', index_col='Unnamed: 0')\n",
    "\n",
    "#Chane Date column type to datetype (When in was inported, it was an obj)\n",
    "daily_production_df.Date = pd.to_datetime(daily_production_df.Date) #changes Date to DateTime type from Object(string) type\n",
    "#df.Date = pd.to_datetime(df.Date) # TO DO: CHECK DOCUMENTATION FOR THIS\n",
    "\n",
    "#removing NaNs\n",
    "daily_production_df['Remarks'] = daily_production_df['Remarks'].fillna('') #Used this method to only execute on Remarks column,\n",
    "#so DateTime and float64 types wouldn't be converted to Object types\n",
    "\n",
    "\n",
    "#Formating floats to show zero decimals\n",
    "pd.options.display.float_format = '{:,.0f}'.format\n",
    "\n",
    "#daily_production_df"
   ]
  },
  {
   "cell_type": "code",
   "execution_count": 3,
   "metadata": {},
   "outputs": [],
   "source": [
    "#2021 dates\n",
    "import datetime\n",
    "end = datetime.date.today() #THIS FORMAT WORKS\n",
    "#end = datetime.datetime(2021, 2, 1).date()\n",
    "start = daily_production_df.iloc[0]['Date'].date() # Gets the most recent date from the dataframe\n",
    "\n",
    "numdays = (end-start).days # Calculates the number of days between the above two dates\n",
    "\n",
    "date_list = [end - timedelta(days=x) for x in range(numdays)]"
   ]
  },
  {
   "cell_type": "code",
   "execution_count": 4,
   "metadata": {},
   "outputs": [
    {
     "name": "stdout",
     "output_type": "stream",
     "text": [
      "The production for 2021-02-23 is not available.\n",
      "The production for 2021-02-22 is not available.\n",
      "The production for 2021-02-21 is not available.\n",
      "The production for 2021-02-20 is not available.\n",
      "The production for 2021-02-19 is not available.\n",
      "The production for 2021-02-18 is not available.\n",
      "The production for 2021-02-17 is not available.\n",
      "The production for 2021-02-16 is not available.\n",
      "The production for 2021-02-15 is not available.\n",
      "The production for 2021-02-14 is not available.\n",
      "The production for 2021-02-13 is not available.\n",
      "The production for 2021-02-12 is not available.\n",
      "The production for 2021-02-11 is not available.\n"
     ]
    }
   ],
   "source": [
    "import_2021_df = pd.DataFrame()\n",
    "\n",
    "for i in range(numdays):\n",
    "    try:\n",
    "        path2021 = 'G:\\CML Operations\\WELL FILES\\A     NON-OPERATED - SOLD\\HAWKWOOD\\Daily production starting 5-17-2018\\\\2021\\DailyProductionReport-' + str(date_list[i]) + '.xlsx'\n",
    "        import_2021 = pd.read_excel(path2021)\n",
    "        import_2021['Remarks'] = import_2021['Remarks'].fillna('')\n",
    "        import_2021.dropna(axis=0, how='any', inplace=True)\n",
    "        \n",
    "\n",
    "        \n",
    "        #import_2021_df = pd.concat([import_2021_df, import_2021]).drop_duplicates()\n",
    "        import_2021_df = pd.concat([import_2021_df,import_2021]).drop_duplicates()\n",
    "    except:\n",
    "        print('The production for ' + str(date_list[i]) + ' is not available.')\n",
    "        continue"
   ]
  },
  {
   "cell_type": "code",
   "execution_count": 5,
   "metadata": {},
   "outputs": [
    {
     "name": "stdout",
     "output_type": "stream",
     "text": [
      "Cannot create dataframe for 2021-02-11 production\n"
     ]
    }
   ],
   "source": [
    "try:\n",
    "    import_2021_df.Date = pd.to_datetime(import_2021_df.Date)\n",
    "    import_2021_df['Date'] = pd.to_datetime(import_2021_df[\"Date\"].dt.strftime('%Y-%m-%d'))\n",
    "    import_2021_df.to_csv('plot.csv')\n",
    "except AttributeError:\n",
    "    print(\"Cannot create dataframe for \" + str(date_list[i]) + \" production\")\n",
    "\n",
    "#import_2021_df"
   ]
  },
  {
   "cell_type": "code",
   "execution_count": null,
   "metadata": {},
   "outputs": [],
   "source": [
    "import_2021_df.to_csv('plot.csv') #SAVE DAILY NUMBERS TO MACRO THEM TO DESIGNATED TABS IN THE Daily Production by well.xlsx"
   ]
  },
  {
   "cell_type": "code",
   "execution_count": 6,
   "metadata": {},
   "outputs": [],
   "source": [
    "# concatenating 2021 import to daily production df (2018, 2019, &2020)\n",
    "daily_production_df = pd.concat([daily_production_df, import_2021_df]).drop_duplicates()\n",
    "\n",
    "#sorting data by name_site ascending, keeping most recent date at ['Date'][0] so it can be refernced in the following yearts date list\n",
    "daily_production_df = daily_production_df.sort_values(['Date', 'Site_Name'], ascending = [False , True]) \n",
    "\n",
    "#daily_production_df"
   ]
  },
  {
   "cell_type": "code",
   "execution_count": null,
   "metadata": {},
   "outputs": [],
   "source": [
    "#saving 2021 production to csv\n",
    "daily_production_df.to_csv('data.csv')\n",
    "\n",
    "daily_production_df.to_csv('T:\\Geotech-Documents\\Hawkwood_Production_Autonomation\\data.csv')"
   ]
  },
  {
   "cell_type": "code",
   "execution_count": 7,
   "metadata": {},
   "outputs": [],
   "source": [
    "import ipywidgets as widgets\n",
    "from IPython.display import display, HTML\n",
    "from ipywidgets import interact, Dropdown, interact_manual\n",
    "\n",
    "\n",
    "\n",
    "import matplotlib.pyplot as plt\n",
    "from pandas.plotting import register_matplotlib_converters\n",
    "register_matplotlib_converters()\n",
    "#%matplotlib inline\n",
    "#%matplotlib widget\n",
    "#%matplotlib nbagg"
   ]
  },
  {
   "cell_type": "code",
   "execution_count": 8,
   "metadata": {},
   "outputs": [],
   "source": [
    "from mpldatacursor import datacursor\n",
    "import mplcursors"
   ]
  },
  {
   "cell_type": "code",
   "execution_count": 9,
   "metadata": {},
   "outputs": [],
   "source": [
    "# Create wellname and date widgets to sort dataframe\n",
    "well_list = daily_production_df['Site_Name'].unique().tolist()"
   ]
  },
  {
   "cell_type": "code",
   "execution_count": 11,
   "metadata": {},
   "outputs": [
    {
     "data": {
      "application/vnd.jupyter.widget-view+json": {
       "model_id": "01c8a8c566d345aa9092110652db10e5",
       "version_major": 2,
       "version_minor": 0
      },
      "text/plain": [
       "interactive(children=(Dropdown(description='Well Site:', options=('CROC 1H', 'GALAH 3H', 'GOANNA 1H', 'GREAT W…"
      ]
     },
     "metadata": {},
     "output_type": "display_data"
    }
   ],
   "source": [
    "import matplotlib.pyplot as plt\n",
    "%matplotlib widget\n",
    "\n",
    "#wellname = 'CROC 1H'\n",
    "wellnameW = widgets.Dropdown(\n",
    "    options=well_list,\n",
    "    description='Well Site:',\n",
    ")\n",
    "\n",
    "\n",
    "\n",
    "@interact_manual(wellname = wellnameW)\n",
    "\n",
    "\n",
    "\n",
    "def main(wellname):\n",
    "    df_query = daily_production_df[(daily_production_df['Site_Name'] == wellname) &\n",
    "            (daily_production_df['Oil_(BBL)'] > 0) & \n",
    "            (daily_production_df['Gas_(MCF)'] > 0) & \n",
    "            (daily_production_df['Water_(BBL)'] > 0)]\n",
    "    \n",
    "    # Get cum for entire well life regardless of days !!selected. That way cum oil is always correct\n",
    "    df_cum = daily_production_df[daily_production_df['Site_Name'] == wellname]\n",
    "    cumoil = int(df_cum['Oil_(BBL)'].sum())\n",
    "    cumgas = int(df_cum['Gas_(MCF)'].sum())\n",
    "    print(f'{wellname} has produced {cumoil} BBLS of oil')\n",
    "    print(f'{wellname} has produced {cumgas} MCF of gas')\n",
    "    \n",
    "    # Params\n",
    "    plt.rcParams['figure.figsize'] = [25, 20]\n",
    "    well_outputs = ['Oil_(BBL)', 'Gas_(MCF)', 'Water_(BBL)']\n",
    "    output_colors = ['g', 'r','b']\n",
    "    \n",
    "    fig, axs= plt.subplots(3, constrained_layout=True)\n",
    "    # Make 3 subplots for oil, water, and gas\n",
    "    for i in range(3):\n",
    "        fontdict={'fontsize': 20}\n",
    "        axs[i].plot(df_query['Date'].tolist(), df_query[well_outputs[i]], color = output_colors[i])\n",
    "        axs[i].set_title(f'{wellname} {well_outputs[i]} Production', fontdict=fontdict, pad=15.0)\n",
    "        axs[i].grid()\n",
    "        axs[i].set_yscale('log')      \n",
    "\n",
    "    mplcursors.cursor()\n",
    "    #fig.tight_layout() \n",
    "    plt.show()\n",
    "  \n",
    " "
   ]
  },
  {
   "cell_type": "code",
   "execution_count": null,
   "metadata": {},
   "outputs": [],
   "source": []
  }
 ],
 "metadata": {
  "kernelspec": {
   "display_name": "Python 3",
   "language": "python",
   "name": "python3"
  },
  "language_info": {
   "codemirror_mode": {
    "name": "ipython",
    "version": 3
   },
   "file_extension": ".py",
   "mimetype": "text/x-python",
   "name": "python",
   "nbconvert_exporter": "python",
   "pygments_lexer": "ipython3",
   "version": "3.9.2"
  }
 },
 "nbformat": 4,
 "nbformat_minor": 4
}
